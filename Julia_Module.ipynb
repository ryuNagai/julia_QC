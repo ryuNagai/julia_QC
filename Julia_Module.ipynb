{
 "cells": [
  {
   "cell_type": "markdown",
   "metadata": {},
   "source": [
    "# Quantum Computing with Julia"
   ]
  },
  {
   "cell_type": "markdown",
   "metadata": {},
   "source": [
    "### Using module\n",
    "\n",
    "As for now, include module's path and import it by \"using ~\"."
   ]
  },
  {
   "cell_type": "code",
   "execution_count": 1,
   "metadata": {},
   "outputs": [],
   "source": [
    "include(\"./Juliaqat.jl\")\n",
    "using .Juliaqat"
   ]
  },
  {
   "cell_type": "markdown",
   "metadata": {},
   "source": [
    "### Construct quantum circuit"
   ]
  },
  {
   "cell_type": "markdown",
   "metadata": {},
   "source": [
    "Prepare input state."
   ]
  },
  {
   "cell_type": "code",
   "execution_count": 2,
   "metadata": {},
   "outputs": [
    {
     "data": {
      "text/plain": [
       "Input(2, Complex[0 + 0im, 0 + 0im], Gate[])"
      ]
     },
     "execution_count": 2,
     "metadata": {},
     "output_type": "execute_result"
    }
   ],
   "source": [
    "input = Input(2) # Input(n) : n qubits |0> state"
   ]
  },
  {
   "cell_type": "markdown",
   "metadata": {},
   "source": [
    "Prepare quantum gates as a list."
   ]
  },
  {
   "cell_type": "code",
   "execution_count": 3,
   "metadata": {},
   "outputs": [
    {
     "data": {
      "text/plain": [
       "1-element Array{Any,1}:\n",
       " H(1)"
      ]
     },
     "execution_count": 3,
     "metadata": {},
     "output_type": "execute_result"
    }
   ],
   "source": [
    "gates = []\n",
    "push!(gates, H(1))\n",
    "#gates = [H(1), CX(1, 2)]\n",
    "# gates = [H(1), H(2), CZ(1, 2), H(1), H(2)]\n",
    "# gates = [H(1), H(2), CZ(1, 2), H(1), H(2), CZ(1, 2), H(1), H(2)]\n",
    "# gates = [X(1), X(2), X(3)]"
   ]
  },
  {
   "cell_type": "markdown",
   "metadata": {},
   "source": [
    "Apply gates to input state."
   ]
  },
  {
   "cell_type": "code",
   "execution_count": 4,
   "metadata": {},
   "outputs": [
    {
     "ename": "MethodError",
     "evalue": "MethodError: no method matching apply!(::Input, ::Array{Any,1})\nClosest candidates are:\n  apply!(::Input, !Matched::Gate) at /Users/ryunagai/Documents/myGithub/julia_QC/Juliaqat.jl:61\n  apply!(::Input, !Matched::Array{T,1}) where T<:Gate at /Users/ryunagai/Documents/myGithub/julia_QC/Juliaqat.jl:66",
     "output_type": "error",
     "traceback": [
      "MethodError: no method matching apply!(::Input, ::Array{Any,1})\nClosest candidates are:\n  apply!(::Input, !Matched::Gate) at /Users/ryunagai/Documents/myGithub/julia_QC/Juliaqat.jl:61\n  apply!(::Input, !Matched::Array{T,1}) where T<:Gate at /Users/ryunagai/Documents/myGithub/julia_QC/Juliaqat.jl:66",
      "",
      "Stacktrace:",
      " [1] top-level scope at In[4]:1"
     ]
    }
   ],
   "source": [
    "apply!(input, gates)"
   ]
  },
  {
   "cell_type": "markdown",
   "metadata": {},
   "source": [
    "Select a device.  \n",
    "It is actually a simulator backend. Other simulators or hardware resources can be added to devices."
   ]
  },
  {
   "cell_type": "code",
   "execution_count": 26,
   "metadata": {},
   "outputs": [
    {
     "data": {
      "text/plain": [
       "UndirectedGraphModel(true, [1])"
      ]
     },
     "execution_count": 26,
     "metadata": {},
     "output_type": "execute_result"
    }
   ],
   "source": [
    "device = get_device(\"UndirectedGraph\")"
   ]
  },
  {
   "cell_type": "markdown",
   "metadata": {},
   "source": [
    "As an option, some device dependent parameters can be contained in \"device\".  \n",
    "As an example for \"UndirectedGraph\" simulator, if one of the computational basis states is given, it calculates output state amplitude only for the given basis state.\n",
    "\n",
    "As default, \"UndirectedGraph\" simulator calculates full output state vector, it leads to $2^n$ loops."
   ]
  },
  {
   "cell_type": "code",
   "execution_count": 27,
   "metadata": {},
   "outputs": [],
   "source": [
    "# calculate amplitude for output state |11>.\n",
    "# meas_output = [1, 1]\n",
    "# device = get_device(\"UndirectedGraph\", meas_output)"
   ]
  },
  {
   "cell_type": "markdown",
   "metadata": {},
   "source": [
    "Quantum circuit execution."
   ]
  },
  {
   "cell_type": "code",
   "execution_count": 28,
   "metadata": {},
   "outputs": [
    {
     "data": {
      "text/plain": [
       "4-element Array{Any,1}:\n",
       " 0.7071067811865474 + 0.0im\n",
       "                0.0 + 0.0im\n",
       "                0.0 + 0.0im\n",
       " 0.7071067811865474 + 0.0im"
      ]
     },
     "execution_count": 28,
     "metadata": {},
     "output_type": "execute_result"
    }
   ],
   "source": [
    "state = execute(input, device)"
   ]
  },
  {
   "cell_type": "code",
   "execution_count": null,
   "metadata": {},
   "outputs": [],
   "source": []
  },
  {
   "cell_type": "code",
   "execution_count": null,
   "metadata": {},
   "outputs": [],
   "source": []
  }
 ],
 "metadata": {
  "@webio": {
   "lastCommId": null,
   "lastKernelId": null
  },
  "kernelspec": {
   "display_name": "Julia 1.4.0",
   "language": "julia",
   "name": "julia-1.4"
  },
  "language_info": {
   "file_extension": ".jl",
   "mimetype": "application/julia",
   "name": "julia",
   "version": "1.4.0"
  }
 },
 "nbformat": 4,
 "nbformat_minor": 4
}
