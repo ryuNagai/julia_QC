{
 "cells": [
  {
   "cell_type": "markdown",
   "metadata": {},
   "source": [
    "# モジュール構成について\n",
    "\n",
    "仮名：Juliaqat\n",
    "\n",
    "モジュール構成(暫定)\n",
    "\n",
    "./\n",
    "- juliaqat.jl : メインモジュール\n",
    "- Gate.jl : 量子ゲート\n",
    "- backend_base：メインモジュールとバックエンドで共有する抽象型などを格納\n",
    "\n",
    "./backends/\n",
    "- UndirectedGraph.jl : UndirectedGraphModel\n",
    "- TensorContraction.jl : TensorContractionModel\n",
    "- その他(上2つも含め、中身はこれから)\n",
    "\n",
    "\n",
    "インターフェースについて\n",
    "- 量子回路は mutable stract \"qc = QuantumCircuit(n_qubit, n_creg)\" として定義\n",
    "- 量子ゲートも stract \"X(target_qubit)\" などと定義。全て抽象型 \"Gate\" のサブクラスとする\n",
    "- 量子ゲートの適用は \"apply!(qc, X(0))\" とする。\n",
    "- 複数の量子ゲートを先にArrayに格納して、\"apply!(qc, Array{Gate, 1})\"することも可\n",
    "- backend の選択は \"device = get_device(\"name\")\" としてdeviceを取得\n",
    "- 取得する device もstruct。device を引数とした時、その型によって backend の判別を行う。また、backendごとの計算に必要なパラメータの格納にも用いる。\n",
    "- 量子回路の実行は \"result = execute(qc, device)\"。device の型に応じて、対応する backend の実行関数を呼び出す。  \n",
    "Julia では関数名 \"run\" はBaseクラスが持っているようで、避ける必要がありそう。\n",
    "\n",
    "- backend に渡すのは QuantumCircuit と GateのArray"
   ]
  },
  {
   "cell_type": "markdown",
   "metadata": {},
   "source": [
    "# Julia の言語仕様について\n",
    "\n",
    "Python におけるクラスと等価なものは無い。Julia の struct はメンバ変数を持てるが、関数メソッドを struct に紐付けるようにはなっていない。  \n",
    "代わりにジェネリック関数が定義できる。  \n",
    "Python で異なるクラスに属する同名の関数を定義できる代わりに、Julia では異なる引数の型をとる同名の関数を定義する。\n",
    "\n",
    "言い換えると、Python のクラスによる構成を Julia では型+関数で構成するイメージ。\n",
    "\n",
    "慣例(明確なコーディング規約はまだ無い模様)\n",
    "- 変数名は小文字\n",
    "- 単語の境界はアンダースコア(_)。でもなるべく使用は避ける。\n",
    "- 型名は大文字で始まり、CamelCase\n",
    "- 関数名やマクロ名は小文字でアンダースコアなし。\n",
    "- 引数を破壊的に変更する関数は!をつける(sort!など)。\n",
    "\n",
    "メモ  \n",
    "親ディレクトリ中の.jl は、子ディレクトリ中.jlで定義したabstract typeを呼び出せない？ = abstract typeは子から親に渡せない？  \n"
   ]
  },
  {
   "cell_type": "markdown",
   "metadata": {},
   "source": [
    "# モジュールインターフェイスの使用例"
   ]
  },
  {
   "cell_type": "code",
   "execution_count": 17,
   "metadata": {},
   "outputs": [
    {
     "name": "stderr",
     "output_type": "stream",
     "text": [
      "WARNING: replacing module Juliaqat.\n",
      "WARNING: using Juliaqat.Input in module Main conflicts with an existing identifier.\n",
      "WARNING: using Juliaqat.get_device in module Main conflicts with an existing identifier.\n",
      "WARNING: using Juliaqat.apply! in module Main conflicts with an existing identifier.\n",
      "WARNING: using Juliaqat.execute in module Main conflicts with an existing identifier.\n",
      "WARNING: using Juliaqat.QuantumCircuit in module Main conflicts with an existing identifier.\n"
     ]
    }
   ],
   "source": [
    "include(\"./Juliaqat.jl\")\n",
    "using .Juliaqat"
   ]
  },
  {
   "cell_type": "code",
   "execution_count": 24,
   "metadata": {},
   "outputs": [
    {
     "data": {
      "text/plain": [
       "Input(20, Complex[0 + 0im, 0 + 0im, 0 + 0im, 0 + 0im, 0 + 0im, 0 + 0im, 0 + 0im, 0 + 0im, 0 + 0im, 0 + 0im, 0 + 0im, 0 + 0im, 0 + 0im, 0 + 0im, 0 + 0im, 0 + 0im, 0 + 0im, 0 + 0im, 0 + 0im, 0 + 0im], Gate[])"
      ]
     },
     "execution_count": 24,
     "metadata": {},
     "output_type": "execute_result"
    }
   ],
   "source": [
    "qc = QuantumCircuit(2, 2)\n",
    "input = Input(20)"
   ]
  },
  {
   "cell_type": "code",
   "execution_count": 25,
   "metadata": {},
   "outputs": [
    {
     "data": {
      "text/plain": [
       "6-element Array{Gate,1}:\n",
       " H(1)\n",
       " H(2)\n",
       " CZ(1, 2)\n",
       " H(1)\n",
       " H(2)\n",
       " CZ(1, 2)"
      ]
     },
     "execution_count": 25,
     "metadata": {},
     "output_type": "execute_result"
    }
   ],
   "source": [
    "gates = [H(1), H(2), CZ(1, 2), H(1), H(2), CZ(1, 2), H(1), H(2)]\n",
    "gates = [H(1), H(2), CZ(1, 2), H(1), H(2), CZ(1, 2)]\n",
    "#gates = [X(1), X(2), X(3)]"
   ]
  },
  {
   "cell_type": "code",
   "execution_count": 26,
   "metadata": {},
   "outputs": [
    {
     "data": {
      "text/plain": [
       "Input(20, Complex[0 + 0im, 0 + 0im, 0 + 0im, 0 + 0im, 0 + 0im, 0 + 0im, 0 + 0im, 0 + 0im, 0 + 0im, 0 + 0im, 0 + 0im, 0 + 0im, 0 + 0im, 0 + 0im, 0 + 0im, 0 + 0im, 0 + 0im, 0 + 0im, 0 + 0im, 0 + 0im], Gate[H(1), H(2), CZ(1, 2), H(1), H(2), CZ(1, 2)])"
      ]
     },
     "execution_count": 26,
     "metadata": {},
     "output_type": "execute_result"
    }
   ],
   "source": [
    "apply!(input, gates)"
   ]
  },
  {
   "cell_type": "code",
   "execution_count": 27,
   "metadata": {},
   "outputs": [
    {
     "data": {
      "text/plain": [
       "UndirectedGraphModel"
      ]
     },
     "execution_count": 27,
     "metadata": {},
     "output_type": "execute_result"
    }
   ],
   "source": [
    "meas_output = zeros(Int, 20)\n",
    "device = get_device(\"UndirectedGraph\", meas_output)\n",
    "typeof(device)"
   ]
  },
  {
   "cell_type": "code",
   "execution_count": 28,
   "metadata": {},
   "outputs": [
    {
     "data": {
      "text/plain": [
       "0.49999999999999983 + 0.0im"
      ]
     },
     "execution_count": 28,
     "metadata": {},
     "output_type": "execute_result"
    }
   ],
   "source": [
    "state = execute(input, device)\n",
    "# 開発途中のため返り値はqcとdeviceをそのまま返します"
   ]
  },
  {
   "cell_type": "code",
   "execution_count": 29,
   "metadata": {},
   "outputs": [
    {
     "data": {
      "text/plain": [
       "20-element Array{Int64,1}:\n",
       " 0\n",
       " 0\n",
       " 0\n",
       " 0\n",
       " 0\n",
       " 0\n",
       " 0\n",
       " 0\n",
       " 0\n",
       " 0\n",
       " 0\n",
       " 0\n",
       " 0\n",
       " 0\n",
       " 0\n",
       " 0\n",
       " 0\n",
       " 0\n",
       " 0\n",
       " 0"
      ]
     },
     "execution_count": 29,
     "metadata": {},
     "output_type": "execute_result"
    }
   ],
   "source": [
    "device.output_basis"
   ]
  },
  {
   "cell_type": "code",
   "execution_count": null,
   "metadata": {},
   "outputs": [],
   "source": []
  }
 ],
 "metadata": {
  "@webio": {
   "lastCommId": null,
   "lastKernelId": null
  },
  "kernelspec": {
   "display_name": "Julia 1.4.0",
   "language": "julia",
   "name": "julia-1.4"
  },
  "language_info": {
   "file_extension": ".jl",
   "mimetype": "application/julia",
   "name": "julia",
   "version": "1.4.0"
  }
 },
 "nbformat": 4,
 "nbformat_minor": 4
}
