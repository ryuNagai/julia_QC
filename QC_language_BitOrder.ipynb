{
 "cells": [
  {
   "cell_type": "markdown",
   "metadata": {},
   "source": [
    "# Bit Order"
   ]
  },
  {
   "cell_type": "markdown",
   "metadata": {},
   "source": [
    "まとめ\n",
    "\n",
    "Qiskit : $q_0$が最下位量子ビット  \n",
    "braket : $q_0$が最上位量子ビット  \n",
    "blueqat : 状態ベクトル(qiskitと同じ)と測定カウント(braketと同じ)で異なる\n",
    "\n",
    "blueqat.jl でどうする？  \n",
    "$q_0$が最上位量子ビットとした方がアルゴリズム考える上で楽？  "
   ]
  },
  {
   "cell_type": "markdown",
   "metadata": {},
   "source": [
    "### Qiskit\n",
    "\n",
    "$q_0$が最下位量子ビット  \n",
    "状態ベクトル、カウント共に一貫している"
   ]
  },
  {
   "cell_type": "code",
   "execution_count": 1,
   "metadata": {},
   "outputs": [],
   "source": [
    "import qiskit\n",
    "from qiskit.providers.aer import QasmSimulator\n",
    "from qiskit.tools.visualization import plot_histogram"
   ]
  },
  {
   "cell_type": "code",
   "execution_count": 10,
   "metadata": {},
   "outputs": [
    {
     "name": "stdout",
     "output_type": "stream",
     "text": [
      "[q0, q1, q2] = [0, 0, 1]\n",
      "[0.+0.j 0.+0.j 0.+0.j 0.+0.j 1.+0.j 0.+0.j 0.+0.j 0.+0.j]\n",
      "{'100': 100}\n"
     ]
    }
   ],
   "source": [
    "n_qubit = 3\n",
    "qc = qiskit.QuantumCircuit(n_qubit)\n",
    "qc.x(2)\n",
    "\n",
    "print('[q0, q1, q2] = [0, 0, 1]')\n",
    "\n",
    "backend = qiskit.Aer.get_backend('statevector_simulator')\n",
    "results = qiskit.execute(qc, backend=backend).result()\n",
    "state_vec = results.get_statevector(qc)\n",
    "print(state_vec)\n",
    "\n",
    "qc = qiskit.QuantumCircuit(n_qubit, n_qubit)\n",
    "qc.x(2)\n",
    "for i in range(n_qubit):\n",
    "    qc.measure(i, i)\n",
    "\n",
    "backend = qiskit.Aer.get_backend('qasm_simulator')\n",
    "results = qiskit.execute(qc, backend=backend, shots = 100).result()\n",
    "counts = results.get_counts(qc)\n",
    "print(counts)\n",
    "\n",
    "#plot_histogram(counts)"
   ]
  },
  {
   "cell_type": "markdown",
   "metadata": {},
   "source": [
    "### Braket\n",
    "\n",
    "$q_0$が最上位量子ビット  \n",
    "状態ベクトル、カウント共に一貫している"
   ]
  },
  {
   "cell_type": "code",
   "execution_count": 3,
   "metadata": {},
   "outputs": [],
   "source": [
    "from braket.circuits import Circuit as braket_circuit\n",
    "from braket.devices import LocalSimulator\n",
    "\n",
    "device = LocalSimulator()"
   ]
  },
  {
   "cell_type": "code",
   "execution_count": 15,
   "metadata": {},
   "outputs": [
    {
     "name": "stdout",
     "output_type": "stream",
     "text": [
      "[q0, q1, q2] = [0, 0, 1]\n",
      "[array([0.+0.j, 1.+0.j, 0.+0.j, 0.+0.j, 0.+0.j, 0.+0.j, 0.+0.j, 0.+0.j])]\n",
      "Counter({'001': 100})\n"
     ]
    }
   ],
   "source": [
    "n_qubit = 3\n",
    "\n",
    "# braket_circuit().x(2) とすると隣接するインデックスを入力しろとエラーを吐く\n",
    "qc = braket_circuit().x(0).x(1).x(2).x(0).x(1).state_vector()\n",
    "print('[q0, q1, q2] = [0, 0, 1]')\n",
    "task = device.run(qc, shots=0)\n",
    "result = task.result()\n",
    "print(result.values)\n",
    "\n",
    "qc = braket_circuit().x(0).x(1).x(2).x(0).x(1)\n",
    "print(device.run(qc, shots=100).result().measurement_counts)"
   ]
  },
  {
   "cell_type": "markdown",
   "metadata": {},
   "source": [
    "### Blueqat\n",
    "\n",
    "状態ベクトルは$q_0$が最下位量子ビット  \n",
    "カウントは$q_0$が最上位量子ビット  "
   ]
  },
  {
   "cell_type": "code",
   "execution_count": 2,
   "metadata": {},
   "outputs": [],
   "source": [
    "import blueqat"
   ]
  },
  {
   "cell_type": "code",
   "execution_count": 14,
   "metadata": {},
   "outputs": [
    {
     "name": "stdout",
     "output_type": "stream",
     "text": [
      "[q0, q1, q2] = [0, 0, 1]\n",
      "[0.+0.j 0.+0.j 0.+0.j 0.+0.j 1.+0.j 0.+0.j 0.+0.j 0.+0.j]\n",
      "Counter({'001': 100})\n"
     ]
    }
   ],
   "source": [
    "qc = blueqat.Circuit().x[2]\n",
    "print('[q0, q1, q2] = [0, 0, 1]')\n",
    "\n",
    "statevec = qc.run()\n",
    "print(statevec)\n",
    "\n",
    "qc = blueqat.Circuit().x[2].m[:]\n",
    "counts = qc.run(shots = 100)\n",
    "print(counts)"
   ]
  },
  {
   "cell_type": "code",
   "execution_count": 6,
   "metadata": {},
   "outputs": [
    {
     "name": "stdout",
     "output_type": "stream",
     "text": [
      "[1.+0.j 0.+0.j 0.+0.j 0.+0.j]\n"
     ]
    }
   ],
   "source": [
    "qc = blueqat.Circuit().h[0].h[1].cz[0, 1].h[0].h[1].cz[0, 1].h[0].h[1]\n",
    "\n",
    "statevec = qc.run()\n",
    "print(statevec)"
   ]
  },
  {
   "cell_type": "code",
   "execution_count": 4,
   "metadata": {},
   "outputs": [
    {
     "name": "stdout",
     "output_type": "stream",
     "text": [
      "[ 0.5+0.j  0.5+0.j  0.5+0.j -0.5+0.j]\n"
     ]
    }
   ],
   "source": [
    "qc = blueqat.Circuit().h[0].h[1].cz[0, 1].h[0].h[1]\n",
    "\n",
    "statevec = qc.run()\n",
    "print(statevec)"
   ]
  },
  {
   "cell_type": "code",
   "execution_count": null,
   "metadata": {},
   "outputs": [],
   "source": []
  }
 ],
 "metadata": {
  "@webio": {
   "lastCommId": null,
   "lastKernelId": null
  },
  "kernelspec": {
   "display_name": "Python 3",
   "language": "python",
   "name": "python3"
  },
  "language_info": {
   "codemirror_mode": {
    "name": "ipython",
    "version": 3
   },
   "file_extension": ".py",
   "mimetype": "text/x-python",
   "name": "python",
   "nbconvert_exporter": "python",
   "pygments_lexer": "ipython3",
   "version": "3.8.2"
  }
 },
 "nbformat": 4,
 "nbformat_minor": 4
}
