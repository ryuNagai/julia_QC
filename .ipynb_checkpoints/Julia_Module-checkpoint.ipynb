{
 "cells": [
  {
   "cell_type": "markdown",
   "metadata": {},
   "source": [
    "# Quantum Computing with Julia"
   ]
  },
  {
   "cell_type": "markdown",
   "metadata": {},
   "source": [
    "### Using module\n",
    "\n",
    "As for now, include module's path and import it by \"using ~\"."
   ]
  },
  {
   "cell_type": "code",
   "execution_count": 1,
   "metadata": {},
   "outputs": [],
   "source": [
    "include(\"./Juliaqat.jl\")\n",
    "using .Juliaqat"
   ]
  },
  {
   "cell_type": "markdown",
   "metadata": {},
   "source": [
    "### Construct quantum circuit"
   ]
  },
  {
   "cell_type": "markdown",
   "metadata": {},
   "source": [
    "Prepare input state."
   ]
  },
  {
   "cell_type": "code",
   "execution_count": 2,
   "metadata": {},
   "outputs": [
    {
     "data": {
      "text/plain": [
       "Input(2, Complex[0 + 0im, 0 + 0im], Gate[])"
      ]
     },
     "execution_count": 2,
     "metadata": {},
     "output_type": "execute_result"
    }
   ],
   "source": [
    "input = Input(2) # Input(n) : n qubits |0> state"
   ]
  },
  {
   "cell_type": "markdown",
   "metadata": {},
   "source": [
    "Prepare quantum gates as a list."
   ]
  },
  {
   "cell_type": "code",
   "execution_count": 3,
   "metadata": {},
   "outputs": [
    {
     "data": {
      "text/plain": [
       "2-element Array{Gate,1}:\n",
       " H(1)\n",
       " CX(1, 2)"
      ]
     },
     "execution_count": 3,
     "metadata": {},
     "output_type": "execute_result"
    }
   ],
   "source": [
    "gates = [H(1), CX(1, 2)]\n",
    "# gates = [H(1), H(2), CZ(1, 2), H(1), H(2)]\n",
    "# gates = [H(1), H(2), CZ(1, 2), H(1), H(2), CZ(1, 2), H(1), H(2)]\n",
    "# gates = [X(1), X(2), X(3)]"
   ]
  },
  {
   "cell_type": "markdown",
   "metadata": {},
   "source": [
    "Apply gates to input state."
   ]
  },
  {
   "cell_type": "code",
   "execution_count": 4,
   "metadata": {},
   "outputs": [
    {
     "data": {
      "text/plain": [
       "Input(2, Complex[0 + 0im, 0 + 0im], Gate[H(1), CX(1, 2)])"
      ]
     },
     "execution_count": 4,
     "metadata": {},
     "output_type": "execute_result"
    }
   ],
   "source": [
    "apply!(input, gates)"
   ]
  },
  {
   "cell_type": "markdown",
   "metadata": {},
   "source": [
    "Select a device.  \n",
    "It is actually a simulator backend. Other simulators or hardware resources can be added to devices."
   ]
  },
  {
   "cell_type": "code",
   "execution_count": 5,
   "metadata": {},
   "outputs": [
    {
     "data": {
      "text/plain": [
       "UndirectedGraphModel(true, [1])"
      ]
     },
     "execution_count": 5,
     "metadata": {},
     "output_type": "execute_result"
    }
   ],
   "source": [
    "device = get_device(\"UndirectedGraph\")"
   ]
  },
  {
   "cell_type": "markdown",
   "metadata": {},
   "source": [
    "As an option, some device dependent parameters can be contained in \"device\".  \n",
    "As an example for \"UndirectedGraph\" simulator, if one of the computational basis states is given, it calculates output state amplitude only for the given basis state.\n",
    "\n",
    "As default, \"UndirectedGraph\" simulator calculates full output state vector, it leads to $2^n$ loops."
   ]
  },
  {
   "cell_type": "code",
   "execution_count": 6,
   "metadata": {},
   "outputs": [],
   "source": [
    "# calculate amplitude for output state |11>.\n",
    "# meas_output = [1, 1]\n",
    "# device = get_device(\"UndirectedGraph\", meas_output)"
   ]
  },
  {
   "cell_type": "markdown",
   "metadata": {},
   "source": [
    "Quantum circuit execution."
   ]
  },
  {
   "cell_type": "code",
   "execution_count": 8,
   "metadata": {},
   "outputs": [
    {
     "ename": "MethodError",
     "evalue": "MethodError: no method matching gate_parser(::H)\nClosest candidates are:\n  gate_parser(!Matched::Main.Juliaqat.BackendFunctions.UndirectedGraphBackend.UndirectedGraphFunctions.GateSet.CX) at /Users/ryunagai/Documents/myGithub/julia_QC/backends/UndirectedGraph/UndirectedGraphFunctions.jl:217\n  gate_parser(!Matched::T) where T<:Main.Juliaqat.BackendFunctions.UndirectedGraphBackend.UndirectedGraphFunctions.GateSet.Gate at /Users/ryunagai/Documents/myGithub/julia_QC/backends/UndirectedGraph/UndirectedGraphFunctions.jl:225",
     "output_type": "error",
     "traceback": [
      "MethodError: no method matching gate_parser(::H)\nClosest candidates are:\n  gate_parser(!Matched::Main.Juliaqat.BackendFunctions.UndirectedGraphBackend.UndirectedGraphFunctions.GateSet.CX) at /Users/ryunagai/Documents/myGithub/julia_QC/backends/UndirectedGraph/UndirectedGraphFunctions.jl:217\n  gate_parser(!Matched::T) where T<:Main.Juliaqat.BackendFunctions.UndirectedGraphBackend.UndirectedGraphFunctions.GateSet.Gate at /Users/ryunagai/Documents/myGithub/julia_QC/backends/UndirectedGraph/UndirectedGraphFunctions.jl:225",
      "",
      "Stacktrace:",
      " [1] execute_backend(::Int64, ::Array{Gate,1}, ::UndirectedGraphModel) at /Users/ryunagai/Documents/myGithub/julia_QC/backends/UndirectedGraph/UndirectedGraph.jl:16",
      " [2] execute_backend(::Int64, ::Array{Gate,1}, ::UndirectedGraphModel) at /Users/ryunagai/Documents/myGithub/julia_QC/backends/backend_functions.jl:17",
      " [3] execute(::Input, ::UndirectedGraphModel) at /Users/ryunagai/Documents/myGithub/julia_QC/Juliaqat.jl:107",
      " [4] top-level scope at In[8]:1"
     ]
    }
   ],
   "source": [
    "state = execute(input, device)"
   ]
  },
  {
   "cell_type": "code",
   "execution_count": 8,
   "metadata": {},
   "outputs": [
    {
     "ename": "MethodError",
     "evalue": "MethodError: Cannot `convert` an object of type Tuple{} to an object of type Array{Complex,1}\nClosest candidates are:\n  convert(::Type{T}, !Matched::AbstractArray) where T<:Array at array.jl:533\n  convert(::Type{T}, !Matched::T) where T<:AbstractArray at abstractarray.jl:14\n  convert(::Type{T}, !Matched::LinearAlgebra.Factorization) where T<:AbstractArray at /Users/julia/buildbot/worker/package_macos64/build/usr/share/julia/stdlib/v1.4/LinearAlgebra/src/factorization.jl:55\n  ...",
     "output_type": "error",
     "traceback": [
      "MethodError: Cannot `convert` an object of type Tuple{} to an object of type Array{Complex,1}\nClosest candidates are:\n  convert(::Type{T}, !Matched::AbstractArray) where T<:Array at array.jl:533\n  convert(::Type{T}, !Matched::T) where T<:AbstractArray at abstractarray.jl:14\n  convert(::Type{T}, !Matched::LinearAlgebra.Factorization) where T<:AbstractArray at /Users/julia/buildbot/worker/package_macos64/build/usr/share/julia/stdlib/v1.4/LinearAlgebra/src/factorization.jl:55\n  ...",
      "",
      "Stacktrace:",
      " [1] Main.Juliaqat.backend_functions.StateVectorBackend.StateVectorModel(::Tuple{}) at /Users/ryunagai/Documents/myGithub/julia_QC/backends/StateVector/StateVector.jl:14",
      " [2] get_device(::String) at /Users/ryunagai/Documents/myGithub/julia_QC/Juliaqat.jl:33",
      " [3] top-level scope at In[8]:1"
     ]
    }
   ],
   "source": [
    "device = get_device(\"StateVector\")"
   ]
  },
  {
   "cell_type": "code",
   "execution_count": 12,
   "metadata": {},
   "outputs": [
    {
     "ename": "MethodError",
     "evalue": "MethodError: no method matching names(::Type{H})\nClosest candidates are:\n  names(!Matched::Module; all, imported) at reflection.jl:98",
     "output_type": "error",
     "traceback": [
      "MethodError: no method matching names(::Type{H})\nClosest candidates are:\n  names(!Matched::Module; all, imported) at reflection.jl:98",
      "",
      "Stacktrace:",
      " [1] top-level scope at In[12]:1"
     ]
    }
   ],
   "source": [
    "H"
   ]
  },
  {
   "cell_type": "code",
   "execution_count": 62,
   "metadata": {},
   "outputs": [
    {
     "data": {
      "text/plain": [
       "test2(1, \"test2\")"
      ]
     },
     "execution_count": 62,
     "metadata": {},
     "output_type": "execute_result"
    }
   ],
   "source": [
    "test2(1)"
   ]
  },
  {
   "cell_type": "code",
   "execution_count": 63,
   "metadata": {},
   "outputs": [
    {
     "data": {
      "text/plain": [
       "test2"
      ]
     },
     "execution_count": 63,
     "metadata": {},
     "output_type": "execute_result"
    }
   ],
   "source": [
    "mutable struct test2\n",
    "        _target::Int64\n",
    "        _name::String\n",
    "end\n",
    "function test2()\n",
    "    return test2(1, \"test2\")\n",
    "end"
   ]
  },
  {
   "cell_type": "code",
   "execution_count": 64,
   "metadata": {},
   "outputs": [
    {
     "data": {
      "text/plain": [
       "test2(1, \"test2\")"
      ]
     },
     "execution_count": 64,
     "metadata": {},
     "output_type": "execute_result"
    }
   ],
   "source": [
    "A = test2()"
   ]
  },
  {
   "cell_type": "code",
   "execution_count": 65,
   "metadata": {},
   "outputs": [
    {
     "data": {
      "text/plain": [
       "2-element Array{Any,1}:\n",
       " \"_target\"\n",
       " \"_name\""
      ]
     },
     "execution_count": 65,
     "metadata": {},
     "output_type": "execute_result"
    }
   ],
   "source": [
    "a = fieldnames(typeof(A))\n",
    "field_names = []\n",
    "for i in a\n",
    "    push!(field_names, string(i))\n",
    "end\n",
    "field_names"
   ]
  },
  {
   "cell_type": "code",
   "execution_count": 72,
   "metadata": {},
   "outputs": [
    {
     "data": {
      "text/plain": [
       "1-element Array{Any,1}:\n",
       " 1"
      ]
     },
     "execution_count": 72,
     "metadata": {},
     "output_type": "execute_result"
    }
   ],
   "source": [
    "given_property = [getproperty(A, property) for property in a]\n",
    "given_property[1:end-1]"
   ]
  },
  {
   "cell_type": "code",
   "execution_count": 68,
   "metadata": {},
   "outputs": [
    {
     "data": {
      "text/plain": [
       "test2(1, \"test2\")"
      ]
     },
     "execution_count": 68,
     "metadata": {},
     "output_type": "execute_result"
    }
   ],
   "source": [
    "code = A._name * \"(\"\n",
    "for prop in given_property[1:end-1]\n",
    "    code *= \", \"\n",
    "    code *= string(prop)\n",
    "end\n",
    "B = eval(Meta.parse(A._name * \"()\"))"
   ]
  },
  {
   "cell_type": "code",
   "execution_count": 69,
   "metadata": {},
   "outputs": [
    {
     "data": {
      "text/plain": [
       "1-element Array{Any,1}:\n",
       " 1"
      ]
     },
     "execution_count": 69,
     "metadata": {},
     "output_type": "execute_result"
    }
   ],
   "source": []
  },
  {
   "cell_type": "code",
   "execution_count": 70,
   "metadata": {},
   "outputs": [
    {
     "data": {
      "text/plain": [
       "1"
      ]
     },
     "execution_count": 70,
     "metadata": {},
     "output_type": "execute_result"
    }
   ],
   "source": [
    "b = fieldnames(typeof(B))\n",
    "setfield!(B, b[1], given_property[1])"
   ]
  },
  {
   "cell_type": "code",
   "execution_count": 71,
   "metadata": {},
   "outputs": [
    {
     "data": {
      "text/plain": [
       "test2(1, \"test2\")"
      ]
     },
     "execution_count": 71,
     "metadata": {},
     "output_type": "execute_result"
    }
   ],
   "source": [
    "B"
   ]
  },
  {
   "cell_type": "code",
   "execution_count": 55,
   "metadata": {},
   "outputs": [
    {
     "data": {
      "text/plain": [
       "test2"
      ]
     },
     "execution_count": 55,
     "metadata": {},
     "output_type": "execute_result"
    }
   ],
   "source": [
    "B"
   ]
  },
  {
   "cell_type": "code",
   "execution_count": null,
   "metadata": {},
   "outputs": [],
   "source": []
  }
 ],
 "metadata": {
  "@webio": {
   "lastCommId": null,
   "lastKernelId": null
  },
  "kernelspec": {
   "display_name": "Julia 1.4.0",
   "language": "julia",
   "name": "julia-1.4"
  },
  "language_info": {
   "file_extension": ".jl",
   "mimetype": "application/julia",
   "name": "julia",
   "version": "1.4.0"
  }
 },
 "nbformat": 4,
 "nbformat_minor": 4
}
