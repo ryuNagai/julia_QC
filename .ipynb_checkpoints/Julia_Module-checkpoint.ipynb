{
 "cells": [
  {
   "cell_type": "markdown",
   "metadata": {},
   "source": [
    "# Quantum Computing with Julia"
   ]
  },
  {
   "cell_type": "markdown",
   "metadata": {},
   "source": [
    "### Using module\n",
    "\n",
    "As for now, include module's path and import it by \"using ~\"."
   ]
  },
  {
   "cell_type": "code",
   "execution_count": 16,
   "metadata": {},
   "outputs": [
    {
     "name": "stderr",
     "output_type": "stream",
     "text": [
      "WARNING: replacing module Juliaqat.\n",
      "WARNING: using Juliaqat.apply! in module Main conflicts with an existing identifier.\n",
      "WARNING: using Juliaqat.get_device in module Main conflicts with an existing identifier.\n",
      "WARNING: using Juliaqat.Input in module Main conflicts with an existing identifier.\n",
      "WARNING: using Juliaqat.QuantumCircuit in module Main conflicts with an existing identifier.\n",
      "WARNING: using Juliaqat.execute in module Main conflicts with an existing identifier.\n"
     ]
    }
   ],
   "source": [
    "include(\"./Juliaqat.jl\")\n",
    "using .Juliaqat"
   ]
  },
  {
   "cell_type": "markdown",
   "metadata": {},
   "source": [
    "### Construct quantum circuit"
   ]
  },
  {
   "cell_type": "markdown",
   "metadata": {},
   "source": [
    "Prepare input state."
   ]
  },
  {
   "cell_type": "code",
   "execution_count": 22,
   "metadata": {},
   "outputs": [
    {
     "data": {
      "text/plain": [
       "Input(2, Complex[0 + 0im, 0 + 0im], Gate[])"
      ]
     },
     "execution_count": 22,
     "metadata": {},
     "output_type": "execute_result"
    }
   ],
   "source": [
    "input = Input(2) # Input(n) : n qubits |0> state"
   ]
  },
  {
   "cell_type": "markdown",
   "metadata": {},
   "source": [
    "Prepare quantum gates as a list."
   ]
  },
  {
   "cell_type": "code",
   "execution_count": 18,
   "metadata": {},
   "outputs": [
    {
     "data": {
      "text/plain": [
       "2-element Array{Gate,1}:\n",
       " H(1)\n",
       " CX(1, 2)"
      ]
     },
     "execution_count": 18,
     "metadata": {},
     "output_type": "execute_result"
    }
   ],
   "source": [
    "gates = [H(1), CX(1, 2)]\n",
    "# gates = [H(1), H(2), CZ(1, 2), H(1), H(2), CZ(1, 2), H(1), H(2)]\n",
    "# gates = [X(1), X(2), X(3)]"
   ]
  },
  {
   "cell_type": "markdown",
   "metadata": {},
   "source": [
    "Apply gates to input state."
   ]
  },
  {
   "cell_type": "code",
   "execution_count": 24,
   "metadata": {},
   "outputs": [
    {
     "data": {
      "text/plain": [
       "Input(2, Complex[0 + 0im, 0 + 0im], Gate[H(1), CX(1, 2)])"
      ]
     },
     "execution_count": 24,
     "metadata": {},
     "output_type": "execute_result"
    }
   ],
   "source": [
    "apply!(input, gates)"
   ]
  },
  {
   "cell_type": "markdown",
   "metadata": {},
   "source": [
    "Select a device.  \n",
    "It is actually a simulator backend. Other simulators or hardware resources can be added to devices."
   ]
  },
  {
   "cell_type": "code",
   "execution_count": 25,
   "metadata": {},
   "outputs": [
    {
     "data": {
      "text/plain": [
       "UndirectedGraphModel(true, [1])"
      ]
     },
     "execution_count": 25,
     "metadata": {},
     "output_type": "execute_result"
    }
   ],
   "source": [
    "device = get_device(\"UndirectedGraph\")"
   ]
  },
  {
   "cell_type": "markdown",
   "metadata": {},
   "source": [
    "As an option, some device dependent parameters can be contained in \"device\".  \n",
    "As an example for \"UndirectedGraph\" simulator, if one of the computational basis states is given, it calculates output state amplitude only for the given basis state.\n",
    "\n",
    "As default, \"UndirectedGraph\" simulator calculates full output state vector, it leads to $2^n$ loops."
   ]
  },
  {
   "cell_type": "code",
   "execution_count": 26,
   "metadata": {},
   "outputs": [],
   "source": [
    "# calculate amplitude for output state |11>.\n",
    "# meas_output = [1, 1]\n",
    "# device = get_device(\"UndirectedGraph\", meas_output)"
   ]
  },
  {
   "cell_type": "markdown",
   "metadata": {},
   "source": [
    "Quantum circuit execution."
   ]
  },
  {
   "cell_type": "code",
   "execution_count": 28,
   "metadata": {},
   "outputs": [
    {
     "data": {
      "text/plain": [
       "4-element Array{Any,1}:\n",
       " 0.7071067811865474 + 0.0im\n",
       "                0.0 + 0.0im\n",
       "                0.0 + 0.0im\n",
       " 0.7071067811865474 + 0.0im"
      ]
     },
     "execution_count": 28,
     "metadata": {},
     "output_type": "execute_result"
    }
   ],
   "source": [
    "state = execute(input, device)"
   ]
  },
  {
   "cell_type": "code",
   "execution_count": null,
   "metadata": {},
   "outputs": [],
   "source": []
  }
 ],
 "metadata": {
  "@webio": {
   "lastCommId": null,
   "lastKernelId": null
  },
  "kernelspec": {
   "display_name": "Julia 1.4.0",
   "language": "julia",
   "name": "julia-1.4"
  },
  "language_info": {
   "file_extension": ".jl",
   "mimetype": "application/julia",
   "name": "julia",
   "version": "1.4.0"
  }
 },
 "nbformat": 4,
 "nbformat_minor": 4
}
