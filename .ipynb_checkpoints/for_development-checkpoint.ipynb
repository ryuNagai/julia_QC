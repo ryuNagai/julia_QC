{
 "cells": [
  {
   "cell_type": "code",
   "execution_count": 17,
   "metadata": {},
   "outputs": [
    {
     "name": "stdout",
     "output_type": "stream",
     "text": [
      "Foo\n"
     ]
    },
    {
     "name": "stderr",
     "output_type": "stream",
     "text": [
      "WARNING: replacing module Foo.\n"
     ]
    },
    {
     "ename": "TypeError",
     "evalue": "TypeError: in <:, expected Type, got Module",
     "output_type": "error",
     "traceback": [
      "TypeError: in <:, expected Type, got Module",
      "",
      "Stacktrace:",
      " [1] top-level scope at In[17]:14",
      " [2] eval at ./boot.jl:331 [inlined]",
      " [3] top-level scope at ./In[17]:17"
     ]
    }
   ],
   "source": [
    "module Foo\n",
    "    x = 1\n",
    "    y = 2\n",
    "    z = 0.1\n",
    "    abstract type Gate end\n",
    "    abstract type OneQubitGate <: Gate end\n",
    "    abstract type TwoQubitGate <: Gate end\n",
    "\n",
    "\n",
    "    struct X <: OneQubitGate\n",
    "        _target::Int64\n",
    "    end\n",
    "\n",
    "    for n in names(@__MODULE__; all=true)\n",
    "        if Base.isidentifier(n) && n ∉ (Symbol(@__MODULE__), :eval, :include)\n",
    "            println(n)\n",
    "            if @eval ($n <: Gate) # export only Int symbol\n",
    "                @eval export $n\n",
    "            end\n",
    "        end\n",
    "    end\n",
    "end"
   ]
  },
  {
   "cell_type": "code",
   "execution_count": 7,
   "metadata": {},
   "outputs": [],
   "source": [
    "using .Foo"
   ]
  },
  {
   "cell_type": "code",
   "execution_count": 8,
   "metadata": {},
   "outputs": [
    {
     "ename": "UndefVarError",
     "evalue": "UndefVarError: X not defined",
     "output_type": "error",
     "traceback": [
      "UndefVarError: X not defined",
      "",
      "Stacktrace:",
      " [1] top-level scope at In[8]:1"
     ]
    }
   ],
   "source": [
    "X"
   ]
  },
  {
   "cell_type": "code",
   "execution_count": 6,
   "metadata": {},
   "outputs": [
    {
     "ename": "UndefVarError",
     "evalue": "UndefVarError: z not defined",
     "output_type": "error",
     "traceback": [
      "UndefVarError: z not defined",
      "",
      "Stacktrace:",
      " [1] top-level scope at In[6]:3"
     ]
    }
   ],
   "source": [
    "x\n",
    "y\n",
    "z"
   ]
  },
  {
   "cell_type": "code",
   "execution_count": 9,
   "metadata": {},
   "outputs": [],
   "source": [
    "abstract type Gate end\n",
    "abstract type OneQubitGate <: Gate end\n",
    "abstract type TwoQubitGate <: Gate end\n",
    "\n",
    "\n",
    "struct X <: OneQubitGate\n",
    "    _target::Int64\n",
    "end"
   ]
  },
  {
   "cell_type": "code",
   "execution_count": 12,
   "metadata": {},
   "outputs": [
    {
     "data": {
      "text/plain": [
       "true"
      ]
     },
     "execution_count": 12,
     "metadata": {},
     "output_type": "execute_result"
    }
   ],
   "source": [
    "X <: Gate"
   ]
  },
  {
   "cell_type": "code",
   "execution_count": null,
   "metadata": {},
   "outputs": [],
   "source": []
  }
 ],
 "metadata": {
  "@webio": {
   "lastCommId": null,
   "lastKernelId": null
  },
  "kernelspec": {
   "display_name": "Julia 1.4.0",
   "language": "julia",
   "name": "julia-1.4"
  },
  "language_info": {
   "file_extension": ".jl",
   "mimetype": "application/julia",
   "name": "julia",
   "version": "1.4.0"
  }
 },
 "nbformat": 4,
 "nbformat_minor": 4
}
