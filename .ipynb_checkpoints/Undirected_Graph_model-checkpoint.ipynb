{
 "cells": [
  {
   "cell_type": "code",
   "execution_count": 1,
   "metadata": {},
   "outputs": [
    {
     "data": {
      "text/plain": [
       "1-element Array{CartesianIndex{0},1}:\n",
       " CartesianIndex()"
      ]
     },
     "execution_count": 1,
     "metadata": {},
     "output_type": "execute_result"
    }
   ],
   "source": [
    "# abstract type State end\n",
    "abstract type Gate end"
   ]
  },
  {
   "cell_type": "code",
   "execution_count": 2,
   "metadata": {},
   "outputs": [],
   "source": [
    "mutable struct OneQubitGate <: Gate\n",
    "    item::Array{Complex, 2}\n",
    "    target::Int\n",
    "    worldline1::Int\n",
    "    worldline2::Int\n",
    "end\n",
    "\n",
    "mutable struct TwoQubitGate <: Gate\n",
    "    item::Array{Complex, 2}\n",
    "    control::Int\n",
    "    target::Int\n",
    "    worldline1::Int\n",
    "    worldline2::Int\n",
    "end\n",
    "\n",
    "mutable struct State\n",
    "    item::Array{Complex, 1}\n",
    "    target::Int\n",
    "    worldline1::Int\n",
    "end"
   ]
  },
  {
   "cell_type": "code",
   "execution_count": 3,
   "metadata": {},
   "outputs": [],
   "source": [
    "struct Tensor\n",
    "    indices::Array{Int, 1}\n",
    "    item::Array{Complex}\n",
    "end"
   ]
  },
  {
   "cell_type": "code",
   "execution_count": 4,
   "metadata": {},
   "outputs": [
    {
     "data": {
      "text/plain": [
       "make_tensor (generic function with 2 methods)"
      ]
     },
     "execution_count": 4,
     "metadata": {},
     "output_type": "execute_result"
    }
   ],
   "source": [
    "function make_tensor(arr::T) where T <: Gate\n",
    "    index1 = arr.worldline1\n",
    "    index2 = arr.worldline2\n",
    "    A = Tensor([index1, index2], arr.item)\n",
    "    return A\n",
    "end\n",
    "\n",
    "function make_tensor(arr::State)\n",
    "    index = arr.worldline1\n",
    "    A = Tensor([index], arr.item)\n",
    "    return A\n",
    "end"
   ]
  },
  {
   "cell_type": "code",
   "execution_count": 35,
   "metadata": {},
   "outputs": [
    {
     "data": {
      "text/plain": [
       "contract_graph (generic function with 1 method)"
      ]
     },
     "execution_count": 35,
     "metadata": {},
     "output_type": "execute_result"
    }
   ],
   "source": [
    "function process_bucket(bucket)\n",
    "    res = bucket[1]\n",
    "    l = length(bucket)\n",
    "    for tensor in bucket[2:l]\n",
    "        res = broadcast_product(res, tensor)\n",
    "    end\n",
    "    return reduce_sum(res)\n",
    "end\n",
    "\n",
    "# element-wise product with broadcast, in the case size of each dim = 2\n",
    "function broadcast_product(A::Tensor, B::Tensor)\n",
    "    indA = A.indices\n",
    "    indB = B.indices\n",
    "    indOut = sort(collect(union(Set(indA), Set(indB))))\n",
    "    _indA = [Int(indOut[i] in Set(indA)) for i in 1:length(indOut)]\n",
    "    _indB = [Int(indOut[i] in Set(indB)) for i in 1:length(indOut)]\n",
    "    reshapeA = Tuple(_indA .+ 1)\n",
    "    reshapeB = Tuple(_indB .+ 1)\n",
    "    expandA = Tuple((_indA .- 1) .* -1 .+ 1)\n",
    "    expandB = Tuple((_indB .- 1) .* -1 .+ 1)\n",
    "    #println(A, B)\n",
    "    _A = repeat(reshape(A.item, reshapeA), outer=expandA)\n",
    "    _B = repeat(reshape(B.item, reshapeB), outer=expandB)\n",
    "    return Tensor(indOut, _A .* _B)\n",
    "end\n",
    "\n",
    "function reduce_sum(A::Tensor)\n",
    "    arr = A.item\n",
    "    l = length(A.indices)\n",
    "    _arr = sum(A.item, dims=1)\n",
    "    if length(size(_arr)) > 1\n",
    "        _arr = dropdims(_arr; dims=1)\n",
    "    end\n",
    "    return Tensor(A.indices[2:l], _arr)\n",
    "end\n",
    "\n",
    "function contract_graph(buckets)\n",
    "    result = 0\n",
    "    for bucket in buckets\n",
    "        if length(bucket) > 0\n",
    "            tensor = process_bucket(bucket)\n",
    "            #println(bucket)\n",
    "            if max(size(tensor.item)...) > 1\n",
    "                first_index = tensor.indices[1]\n",
    "                to_bucket = buckets[first_index]\n",
    "                push!(to_bucket, tensor)\n",
    "            else\n",
    "                #println(result, tensor.item)\n",
    "                if result != 0\n",
    "                    result = result .* tensor.item\n",
    "                else\n",
    "                    result = tensor.item\n",
    "                end\n",
    "            end\n",
    "        end\n",
    "    end\n",
    "    return result[1]\n",
    "end"
   ]
  },
  {
   "cell_type": "markdown",
   "metadata": {},
   "source": [
    "### Example 1"
   ]
  },
  {
   "cell_type": "code",
   "execution_count": 36,
   "metadata": {},
   "outputs": [],
   "source": [
    "Hmat = 1 / sqrt(2) * [1 1; 1 -1]\n",
    "CZmat = [1 1; 1 -1]\n",
    "\n",
    "Input1 = State([1, 0], 1, 1)\n",
    "Input2 = State([1, 0], 2, 4)\n",
    "H1 = OneQubitGate(Hmat, 1, 1, 2)\n",
    "H2= OneQubitGate(Hmat, 2, 4, 5)\n",
    "CZ = TwoQubitGate(CZmat, 1, 2, 2, 5)\n",
    "H3 = OneQubitGate(Hmat, 1, 2, 3)\n",
    "H4 = OneQubitGate(Hmat, 2, 5, 6)\n",
    "Output1 = State([1, 0], 1, 3)\n",
    "Output2 = State([1, 0], 2, 6)\n",
    "\n",
    "num_variables = [3, 3]\n",
    "\n",
    "buckets = []\n",
    "for i in 1:sum(num_variables)\n",
    "#    push!(indices, Index(2))\n",
    "    push!(buckets, [])\n",
    "end\n",
    "\n",
    "elements = [Input1, Input2, H1, H2, CZ, H3, H4, Output1, Output2]\n",
    "Tensors = []\n",
    "\n",
    "for element in elements\n",
    "    tensor = make_tensor(element)\n",
    "    first_index = element.worldline1\n",
    "    push!(buckets[first_index], tensor)\n",
    "end"
   ]
  },
  {
   "cell_type": "code",
   "execution_count": 37,
   "metadata": {},
   "outputs": [
    {
     "data": {
      "text/plain": [
       "0.49999999999999983 + 0.0im"
      ]
     },
     "execution_count": 37,
     "metadata": {},
     "output_type": "execute_result"
    }
   ],
   "source": [
    "contract_graph(buckets)"
   ]
  },
  {
   "cell_type": "markdown",
   "metadata": {},
   "source": [
    "### Example 2"
   ]
  },
  {
   "cell_type": "code",
   "execution_count": 42,
   "metadata": {},
   "outputs": [],
   "source": [
    "Hmat = 1 / sqrt(2) * [1 1; 1 -1]\n",
    "CZmat = [1 1; 1 -1]\n",
    "\n",
    "#out1 = Int(bin_string[7]) - 48\n",
    "#out2 = Int(bin_string[8]) - 48\n",
    "Input1 = State([1, 0], 1, 1)\n",
    "Input2 = State([1, 0], 2, 5)\n",
    "H1 = OneQubitGate(Hmat, 1, 1, 2)\n",
    "H2 = OneQubitGate(Hmat, 2, 5, 6)\n",
    "CZ1 = TwoQubitGate(CZmat, 1, 2, 2, 6)\n",
    "H3 = OneQubitGate(Hmat, 1, 2, 3)\n",
    "H4 = OneQubitGate(Hmat, 2, 6, 7)\n",
    "CZ2 = TwoQubitGate(CZmat, 1, 2, 3, 7)\n",
    "H5 = OneQubitGate(Hmat, 1, 3, 4)\n",
    "H6 = OneQubitGate(Hmat, 2, 7, 8)\n",
    "Output1 = State([1, 0], 1, 4)\n",
    "Output2 = State([0, 1], 2, 8)\n",
    "# Output1 = State([1-out1, out1], 1)\n",
    "# Output2 = State([1-out2, out2], 2)\n",
    "\n",
    "num_variables = [4, 4]\n",
    "indices = []\n",
    "buckets = []\n",
    "for i in 1:sum(num_variables)\n",
    "#    push!(indices, Index(2))\n",
    "    push!(buckets, [])\n",
    "end\n",
    "\n",
    "elements = [Input1, Input2, H1, H2, CZ1, H3, H4, CZ2, H5, H6, Output1, Output2]\n",
    "Tensors = []\n",
    "\n",
    "for element in elements\n",
    "    tensor = make_tensor(element)\n",
    "    first_index = element.worldline1\n",
    "    push!(buckets[first_index], tensor)\n",
    "end"
   ]
  },
  {
   "cell_type": "code",
   "execution_count": 43,
   "metadata": {},
   "outputs": [
    {
     "data": {
      "text/plain": [
       "0.0 + 0.0im"
      ]
     },
     "execution_count": 43,
     "metadata": {},
     "output_type": "execute_result"
    }
   ],
   "source": [
    "contract_graph(buckets)"
   ]
  },
  {
   "cell_type": "code",
   "execution_count": 40,
   "metadata": {},
   "outputs": [],
   "source": [
    "Hmat = 1 / sqrt(2) * [1 1; 1 -1]\n",
    "CZmat = [1 1; 1 -1]\n",
    "Xmat = [0 1; 1 0]\n",
    "\n",
    "#out1 = Int(bin_string[7]) - 48\n",
    "#out2 = Int(bin_string[8]) - 48\n",
    "Input1 = State([1, 0], 1, 1)\n",
    "Input2 = State([1, 0], 2, 3)\n",
    "Input3 = State([1, 0], 3, 5)\n",
    "X1 = OneQubitGate(Xmat, 1, 1, 2)\n",
    "X2 = OneQubitGate(Xmat, 2, 3, 4)\n",
    "X3 = OneQubitGate(Xmat, 3, 5, 6)\n",
    "Output1 = State([0, 1], 1, 2)\n",
    "Output2 = State([0, 1], 2, 4)\n",
    "Output3 = State([0, 1], 2, 6)\n",
    "# Output1 = State([1-out1, out1], 1)\n",
    "# Output2 = State([1-out2, out2], 2)\n",
    "\n",
    "num_variables = [2, 2, 2]\n",
    "indices = []\n",
    "buckets = []\n",
    "for i in 1:sum(num_variables)\n",
    "#    push!(indices, Index(2))\n",
    "    push!(buckets, [])\n",
    "end\n",
    "\n",
    "elements = [Input1, Input2, Input3, X1, X2, X3, Output1, Output2, Output3]\n",
    "Tensors = []\n",
    "\n",
    "for element in elements\n",
    "    tensor = make_tensor(element)\n",
    "    first_index = element.worldline1\n",
    "    push!(buckets[first_index], tensor)\n",
    "end"
   ]
  },
  {
   "cell_type": "code",
   "execution_count": 41,
   "metadata": {},
   "outputs": [
    {
     "data": {
      "text/plain": [
       "1 + 0im"
      ]
     },
     "execution_count": 41,
     "metadata": {},
     "output_type": "execute_result"
    }
   ],
   "source": [
    "contract_graph(buckets)"
   ]
  },
  {
   "cell_type": "code",
   "execution_count": 17,
   "metadata": {},
   "outputs": [
    {
     "data": {
      "text/plain": [
       "6-element Array{Any,1}:\n",
       " Any[Tensor([1], Complex[1 + 0im, 0 + 0im]), Tensor([1, 2], Complex[0 + 0im 1 + 0im; 1 + 0im 0 + 0im])]\n",
       " Any[Tensor([2], Complex[0 + 0im, 1 + 0im]), Tensor([2], Complex[0 + 0im, 1 + 0im])]\n",
       " Any[Tensor([3], Complex[1 + 0im, 0 + 0im]), Tensor([3, 4], Complex[0 + 0im 1 + 0im; 1 + 0im 0 + 0im])]\n",
       " Any[Tensor([4], Complex[0 + 0im, 1 + 0im]), Tensor([4], Complex[0 + 0im, 1 + 0im])]\n",
       " Any[Tensor([5], Complex[1 + 0im, 0 + 0im]), Tensor([5, 6], Complex[0 + 0im 1 + 0im; 1 + 0im 0 + 0im])]\n",
       " Any[Tensor([6], Complex[0 + 0im, 1 + 0im])]"
      ]
     },
     "execution_count": 17,
     "metadata": {},
     "output_type": "execute_result"
    }
   ],
   "source": [
    "buckets"
   ]
  },
  {
   "cell_type": "code",
   "execution_count": 27,
   "metadata": {},
   "outputs": [
    {
     "data": {
      "text/plain": [
       "1-element Array{Complex{Int64},1}:\n",
       " 1 + 0im"
      ]
     },
     "execution_count": 27,
     "metadata": {},
     "output_type": "execute_result"
    }
   ],
   "source": [
    "A = [1 + 0im]\n",
    "B = [1 + 0im]\n",
    "A .* B"
   ]
  },
  {
   "cell_type": "code",
   "execution_count": null,
   "metadata": {},
   "outputs": [],
   "source": []
  }
 ],
 "metadata": {
  "@webio": {
   "lastCommId": null,
   "lastKernelId": null
  },
  "kernelspec": {
   "display_name": "Julia 1.4.0",
   "language": "julia",
   "name": "julia-1.4"
  },
  "language_info": {
   "file_extension": ".jl",
   "mimetype": "application/julia",
   "name": "julia",
   "version": "1.4.0"
  }
 },
 "nbformat": 4,
 "nbformat_minor": 4
}
