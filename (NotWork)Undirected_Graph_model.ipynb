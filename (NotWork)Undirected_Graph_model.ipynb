{
 "cells": [
  {
   "cell_type": "code",
   "execution_count": 22,
   "metadata": {},
   "outputs": [],
   "source": [
    "# abstract type State end\n",
    "abstract type Gate end"
   ]
  },
  {
   "cell_type": "code",
   "execution_count": 23,
   "metadata": {},
   "outputs": [],
   "source": [
    "mutable struct OneQubitGate <: Gate\n",
    "    item::Array{Complex, 2}\n",
    "    target::Int\n",
    "    worldline::Int\n",
    "end\n",
    "\n",
    "mutable struct TwoQubitGate <: Gate\n",
    "    item::Array{Complex, 2}\n",
    "    control::Int\n",
    "    target::Int\n",
    "    worldline_c::Int\n",
    "    worldline_t::Int\n",
    "end\n",
    "\n",
    "mutable struct State\n",
    "    item::Array{Complex, 1}\n",
    "    target::Int\n",
    "end"
   ]
  },
  {
   "cell_type": "code",
   "execution_count": 68,
   "metadata": {},
   "outputs": [
    {
     "data": {
      "text/plain": [
       "2×2 Array{Int64,2}:\n",
       " 1   1\n",
       " 1  -1"
      ]
     },
     "execution_count": 68,
     "metadata": {},
     "output_type": "execute_result"
    }
   ],
   "source": [
    "Hmat = 1 / sqrt(2) * [1 1; 1 -1]\n",
    "CZmat = [1 1; 1 -1]"
   ]
  },
  {
   "cell_type": "code",
   "execution_count": 262,
   "metadata": {},
   "outputs": [
    {
     "data": {
      "text/plain": [
       "sum (generic function with 1 method)"
      ]
     },
     "execution_count": 262,
     "metadata": {},
     "output_type": "execute_result"
    }
   ],
   "source": [
    "function merge(A::OneQubitGate, B::OneQubitGate, merge_to::Int)\n",
    "    if merge_to == 1\n",
    "        item_00 = A.item[1, 1] * B.item[1, 1] + A.item[1, 1] * B.item[1, 2]\n",
    "        item_01 = A.item[1, 2] * B.item[2, 1] + A.item[1, 2] * B.item[2, 2]\n",
    "        item_10 = A.item[2, 1] * B.item[1, 1] + A.item[2, 1] * B.item[1, 2]\n",
    "        item_11 = A.item[2, 2] * B.item[2, 1] + A.item[2, 2] * B.item[2, 2]\n",
    "        return [item_00 item_01; item_10 item_11], B.item\n",
    "    elseif merge_to == 2\n",
    "        item_00 = A.item[1, 1] * B.item[1, 1] + A.item[2, 1] * B.item[1, 1]\n",
    "        item_01 = A.item[1, 1] * B.item[1, 2] + A.item[2, 1] * B.item[1, 2]\n",
    "        item_10 = A.item[1, 2] * B.item[2, 1] + A.item[2, 2] * B.item[2, 1]\n",
    "        item_11 = A.item[1, 2] * B.item[2, 2] + A.item[2, 2] * B.item[2, 2]\n",
    "        return A.item, [item_00 item_01; item_10 item_11]\n",
    "    end\n",
    "end\n",
    "\n",
    "function merge(A::State, B::OneQubitGate)\n",
    "    item_00 = A.item[1] * B.item[1, 1]\n",
    "    item_01 = A.item[1] * B.item[1, 2]\n",
    "    item_10 = A.item[2] * B.item[2, 1]\n",
    "    item_11 = A.item[2] * B.item[2, 2]\n",
    "    return A.item, [item_00 item_01; item_10 item_11]\n",
    "end\n",
    "\n",
    "function merge(A::OneQubitGate, B::State)\n",
    "    item_00 = A.item[1, 1] * B.item[1]\n",
    "    item_01 = A.item[1, 2] * B.item[2]\n",
    "    item_10 = A.item[2, 1] * B.item[1]\n",
    "    item_11 = A.item[2, 2] * B.item[2]\n",
    "    return [item_00 item_01; item_10 item_11], B.item\n",
    "end\n",
    "\n",
    "function merge(A::OneQubitGate, B::TwoQubitGate)\n",
    "    if A.target == B.target\n",
    "        item_00 = (A.item[1, 1] + A.item[2, 1]) * B.item[1, 1]\n",
    "        item_01 = (A.item[1, 2] + A.item[2, 2]) * B.item[1, 2]\n",
    "        item_10 = (A.item[1, 1] + A.item[2, 1]) * B.item[2, 1]\n",
    "        item_11 = (A.item[1, 2] + A.item[2, 2]) * B.item[2, 2]\n",
    "    elseif A.target == B.control\n",
    "        item_00 = (A.item[1, 1] + A.item[2, 1]) * B.item[1, 1]\n",
    "        item_01 = (A.item[1, 1] + A.item[2, 1]) * B.item[1, 2]\n",
    "        item_10 = (A.item[1, 2] + A.item[2, 2]) * B.item[2, 1]\n",
    "        item_11 = (A.item[1, 2] + A.item[2, 2]) * B.item[2, 2]\n",
    "    end\n",
    "    return A.item, [item_00 item_01; item_10 item_11]\n",
    "end\n",
    "\n",
    "function merge(A::TwoQubitGate, B::OneQubitGate)\n",
    "    if A.target == B.target\n",
    "        item_00 = A.item[1, 1] * B.item[1, 1] + A.item[1, 2] * B.item[2, 1]\n",
    "        item_01 = A.item[1, 2] * B.item[2, 2] + A.item[1, 1] * B.item[1, 2]\n",
    "        item_10 = A.item[2, 1] * B.item[1, 1] + A.item[2, 2] * B.item[2, 1]\n",
    "        item_11 = A.item[2, 2] * B.item[2, 2] + A.item[2, 1] * B.item[1, 2]\n",
    "    elseif A.control == B.target\n",
    "        item_00 = A.item[1, 1] * B.item[1, 1] + A.item[2, 1] * B.item[2, 1]\n",
    "        item_01 = A.item[1, 2] * B.item[1, 1] + A.item[2, 2] * B.item[2, 1]\n",
    "        item_10 = A.item[2, 1] * B.item[2, 2] + A.item[1, 1] * B.item[1, 2]\n",
    "        item_11 = A.item[2, 2] * B.item[2, 2] + A.item[1, 2] * B.item[1, 2]\n",
    "    end\n",
    "    return [item_00 item_01; item_10 item_11], B.item\n",
    "end\n",
    "\n",
    "# function merge(A::TwoQubitGate, B::OneQubitGate)\n",
    "#     if A.target == B.target\n",
    "#         item_00 = A.item[1, 1] * (B.item[1, 1] + B.item[1, 2])\n",
    "#         item_01 = A.item[1, 2] * (B.item[2, 1] + B.item[2, 2])\n",
    "#         item_10 = A.item[2, 1] * (B.item[1, 1] + B.item[1, 2])\n",
    "#         item_11 = A.item[2, 2] * (B.item[2, 1] + B.item[2, 2])\n",
    "#     elseif A.control == B.target\n",
    "#         item_00 = A.item[1, 1] * (B.item[1, 1] + B.item[1, 2])\n",
    "#         item_01 = A.item[1, 2] * (B.item[1, 1] + B.item[1, 2])\n",
    "#         item_10 = A.item[2, 1] * (B.item[2, 1] + B.item[2, 2])\n",
    "#         item_11 = A.item[2, 2] * (B.item[2, 1] + B.item[2, 2])\n",
    "#     end\n",
    "#     return [item_00 item_01; item_10 item_11], B.item\n",
    "# end\n",
    "\n",
    "function merge(A::State, B::TwoQubitGate)\n",
    "    if A.target == B.target\n",
    "        item_00 = B.item[1, 1] * A.item[1]\n",
    "        item_01 = B.item[1, 2] * A.item[2]\n",
    "        item_10 = B.item[2, 1] * A.item[1]\n",
    "        item_11 = B.item[2, 2] * A.item[2]\n",
    "    elseif A.target == B.control\n",
    "        item_00 = A.item[1] * B.item[1, 1]\n",
    "        item_01 = A.item[1] * B.item[1, 2]\n",
    "        item_10 = A.item[2] * B.item[2, 1]\n",
    "        item_11 = A.item[2] * B.item[2, 2]\n",
    "    end\n",
    "    return A.item, [item_00 item_01; item_10 item_11]\n",
    "end\n",
    "\n",
    "function merge(A::TwoQubitGate, B::State)\n",
    "    if A.target == B.target\n",
    "        item_00 = A.item[1, 1] * B.item[1]\n",
    "        item_01 = A.item[1, 2] * B.item[2]\n",
    "        item_10 = A.item[2, 1] * B.item[1]\n",
    "        item_11 = A.item[2, 2] * B.item[2]\n",
    "    elseif A.control == B.target\n",
    "        item_00 = B.item[1] * A.item[1, 1]\n",
    "        item_01 = B.item[1] * A.item[1, 2]\n",
    "        item_10 = B.item[2] * A.item[2, 1]\n",
    "        item_11 = B.item[2] * A.item[2, 2]\n",
    "    end\n",
    "    return [item_00 item_01; item_10 item_11], B.item\n",
    "end\n",
    "\n",
    "function merge(A::TwoQubitGate, B::TwoQubitGate, role::String)\n",
    "    if role == \"tt\"\n",
    "        item_00 = (A.item[1, 1] + A.item[2, 1]) * B.item[1, 1]\n",
    "        item_01 = (A.item[1, 2] + A.item[2, 2]) * B.item[1, 2]\n",
    "        item_10 = (A.item[1, 1] + A.item[2, 1]) * B.item[2, 1]\n",
    "        item_11 = (A.item[1, 2] + A.item[2, 2]) * B.item[2, 2]\n",
    "    elseif role == \"tc\"\n",
    "        item_00 = (A.item[1, 1] + A.item[2, 1]) * B.item[1, 1]\n",
    "        item_01 = (A.item[1, 1] + A.item[2, 1]) * B.item[1, 2]\n",
    "        item_10 = (A.item[1, 2] + A.item[2, 2]) * B.item[2, 1]\n",
    "        item_11 = (A.item[1, 2] + A.item[2, 2]) * B.item[2, 2]\n",
    "    end\n",
    "    return A.item, [item_00 item_01; item_10 item_11]\n",
    "end\n",
    "\n",
    "function sum(A::Gate)\n",
    "    return A.item[1, 1] + A.item[1, 2] + A.item[2, 1] + A.item[2, 2]\n",
    "end"
   ]
  },
  {
   "cell_type": "code",
   "execution_count": 246,
   "metadata": {},
   "outputs": [
    {
     "data": {
      "text/plain": [
       "OneQubitGate(Complex[0.7071067811865475 + 0.0im 0.7071067811865475 + 0.0im; 0.7071067811865475 + 0.0im -0.7071067811865475 + 0.0im], 2, 3)"
      ]
     },
     "execution_count": 246,
     "metadata": {},
     "output_type": "execute_result"
    }
   ],
   "source": [
    "Input1 = State([1, 0], 1)\n",
    "Input2 = State([1, 0], 2)\n",
    "Output1 = State([1, 0], 1)\n",
    "Output2 = State([1, 0], 2)\n",
    "H1 = OneQubitGate(Hmat, 1, 1)\n",
    "H2= OneQubitGate(Hmat, 2, 1)\n",
    "CZ = TwoQubitGate(CZmat, 1, 2, 2, 2)\n",
    "H3 = OneQubitGate(Hmat, 1, 3)\n",
    "H4 = OneQubitGate(Hmat, 2, 3)"
   ]
  },
  {
   "cell_type": "code",
   "execution_count": 247,
   "metadata": {},
   "outputs": [
    {
     "data": {
      "text/plain": [
       "create_graph (generic function with 1 method)"
      ]
     },
     "execution_count": 247,
     "metadata": {},
     "output_type": "execute_result"
    }
   ],
   "source": [
    "function create_graph(_n_qubit, Inputs, Outputs, gates::Array{Gate, 1})\n",
    "    latest = zeros(_n_qubit)\n",
    "    edges = []\n",
    "    for i in 1:len(gates)\n",
    "        if gates[i] <: OneQubitGate\n",
    "            idx = gates[i]._target\n",
    "            if latest[idx] == 0\n",
    "                push!(edges, ())\n",
    "            else\n",
    "                \n",
    "            end\n",
    "        end\n",
    "    end\n",
    "end"
   ]
  },
  {
   "cell_type": "code",
   "execution_count": 248,
   "metadata": {},
   "outputs": [
    {
     "data": {
      "text/plain": [
       "0.4999999999999999 + 0.0im"
      ]
     },
     "execution_count": 248,
     "metadata": {},
     "output_type": "execute_result"
    }
   ],
   "source": [
    "n_qregs = 2\n",
    "Inputs = [Input1, Input2]\n",
    "Outputs = [Output1, Output2]\n",
    "gates = [H1, H2, CZ, H3, H4]\n",
    "\n",
    "egdes = [\n",
    "    (Inputs[1], gates[1]),\n",
    "    (Inputs[2], gates[2]),\n",
    "    (gates[4], Outputs[1]),\n",
    "    (gates[5], Outputs[2]),\n",
    "    (gates[1], gates[3]),\n",
    "    (gates[2], gates[3]),\n",
    "    (gates[3], gates[4]),\n",
    "    (gates[3], gates[5]),\n",
    "]\n",
    "\n",
    "egdes[1][1].item, egdes[1][2].item = merge(egdes[1][1], egdes[1][2])\n",
    "egdes[2][1].item, egdes[2][2].item = merge(egdes[2][1], egdes[2][2])\n",
    "egdes[3][1].item, egdes[3][2].item = merge(egdes[3][1], egdes[3][2])\n",
    "egdes[4][1].item, egdes[4][2].item = merge(egdes[4][1], egdes[4][2])\n",
    "egdes[5][1].item, egdes[5][2].item = merge(egdes[5][1], egdes[5][2])\n",
    "egdes[6][1].item, egdes[6][2].item = merge(egdes[6][1], egdes[6][2])\n",
    "egdes[7][1].item, egdes[7][2].item = merge(egdes[7][1], egdes[7][2])\n",
    "egdes[8][1].item, egdes[8][2].item = merge(egdes[8][1], egdes[8][2])\n",
    "sum(egdes[8][1])"
   ]
  },
  {
   "cell_type": "markdown",
   "metadata": {},
   "source": [
    "### 例1 "
   ]
  },
  {
   "cell_type": "code",
   "execution_count": 264,
   "metadata": {},
   "outputs": [
    {
     "name": "stdout",
     "output_type": "stream",
     "text": [
      "0.49999999999999983 + 0.0im\n",
      "0.49999999999999983 + 0.0im\n",
      "0.49999999999999983 + 0.0im\n",
      "-0.49999999999999983 + 0.0im\n"
     ]
    }
   ],
   "source": [
    "for i in 1:2^2\n",
    "    bin_string = bitstring(UInt8(i-1))\n",
    "    \n",
    "    in1 = Int(bin_string[7]) - 48\n",
    "    in2 = Int(bin_string[8]) - 48\n",
    "    Input1 = State([1, 0], 1)\n",
    "    Input2 = State([1, 0], 2)\n",
    "    Output1 = State([1-in1, in1], 1)\n",
    "    Output2 = State([1-in2, in2], 2)\n",
    "    H1 = OneQubitGate(Hmat, 1, 1)\n",
    "    H2= OneQubitGate(Hmat, 2, 1)\n",
    "    CZ = TwoQubitGate(CZmat, 1, 2, 2, 2)\n",
    "    H3 = OneQubitGate(Hmat, 1, 3)\n",
    "    H4 = OneQubitGate(Hmat, 2, 3)\n",
    "\n",
    "    n_qregs = 2\n",
    "    Inputs = [Input1, Input2]\n",
    "    Outputs = [Output1, Output2]\n",
    "    gates = [H1, H2, CZ, H3, H4]\n",
    "    line = [\n",
    "                [gates[1], gates[3], gates[4]],\n",
    "                [gates[2], gates[3], gates[5]],\n",
    "                ]\n",
    "\n",
    "    for idx in 1:length(line)\n",
    "        Inputs[idx].item, line[idx][1].item = merge(Inputs[idx], line[idx][1])\n",
    "        line[idx][length(line[idx])].item, Outputs[idx].item = merge(line[idx][length(line[idx])], Outputs[idx])\n",
    "        curr = line[idx][1]\n",
    "        for timestep in 2:length(line[idx])\n",
    "            curr.item, line[idx][timestep].item = merge(curr, line[idx][timestep])\n",
    "            if typeof(curr) == OneQubitGate || typeof(curr) == State\n",
    "                curr = line[idx][timestep]\n",
    "            end\n",
    "        end\n",
    "    end\n",
    "    println(sum(gates[3]))\n",
    "end"
   ]
  },
  {
   "cell_type": "code",
   "execution_count": 289,
   "metadata": {},
   "outputs": [
    {
     "name": "stdout",
     "output_type": "stream",
     "text": [
      "0.49999999999999983 + 0.0im\n",
      "0.49999999999999983 + 0.0im\n",
      "0.49999999999999983 + 0.0im\n",
      "-0.49999999999999983 + 0.0im\n"
     ]
    }
   ],
   "source": [
    "for i in 1:2^2\n",
    "    bin_string = bitstring(UInt8(i-1))\n",
    "    \n",
    "    in1 = Int(bin_string[7]) - 48\n",
    "    in2 = Int(bin_string[8]) - 48\n",
    "    Input1 = State([1, 0], 1)\n",
    "    Input2 = State([1, 0], 2)\n",
    "    Output1 = State([1-in1, in1], 1)\n",
    "    Output2 = State([1-in2, in2], 2)\n",
    "    H1 = OneQubitGate(Hmat, 1, 1)\n",
    "    H2= OneQubitGate(Hmat, 2, 1)\n",
    "    CZ = TwoQubitGate(CZmat, 1, 2, 2, 2)\n",
    "    H3 = OneQubitGate(Hmat, 1, 3)\n",
    "    H4 = OneQubitGate(Hmat, 2, 3)\n",
    "\n",
    "    n_qregs = 2\n",
    "    Inputs = [Input1, Input2]\n",
    "    Outputs = [Output1, Output2]\n",
    "    gates = [H1, H2, CZ, H3, H4]\n",
    "    line = [\n",
    "                [gates[1], gates[3], gates[4]],\n",
    "                [gates[2], gates[3], gates[5]],\n",
    "                ]\n",
    "\n",
    "    for idx in 1:length(line)\n",
    "        Inputs[idx].item, line[idx][1].item = merge(Inputs[idx], line[idx][1])\n",
    "        # line[idx][length(line[idx])].item, Outputs[idx].item = merge(line[idx][length(line[idx])], Outputs[idx])\n",
    "        curr = line[idx][1]\n",
    "        for timestep in 2:length(line[idx])\n",
    "            curr.item, line[idx][timestep].item = merge(curr, line[idx][timestep])\n",
    "            if typeof(curr) == OneQubitGate || typeof(curr) == State\n",
    "                curr = line[idx][timestep]\n",
    "            end\n",
    "        end\n",
    "        curr.item, Outputs[idx].item = merge(curr, Outputs[idx])\n",
    "    end\n",
    "    println(sum(gates[3]))\n",
    "end"
   ]
  },
  {
   "cell_type": "markdown",
   "metadata": {},
   "source": [
    "### 例2"
   ]
  },
  {
   "cell_type": "code",
   "execution_count": 265,
   "metadata": {},
   "outputs": [
    {
     "name": "stdout",
     "output_type": "stream",
     "text": [
      "0.4999999999999999 + 0.0im\n",
      "0.4999999999999999 + 0.0im\n",
      "0.4999999999999999 + 0.0im\n",
      "0.4999999999999999 + 0.0im\n"
     ]
    }
   ],
   "source": [
    "for i in 1:2^2\n",
    "    bin_string = bitstring(UInt8(i-1))\n",
    "    \n",
    "    in1 = Int(bin_string[7]) - 48\n",
    "    in2 = Int(bin_string[8]) - 48\n",
    "    Input1 = State([1, 0], 1)\n",
    "    Input2 = State([1, 0], 2)\n",
    "    Output1 = State([1-in1, in1], 1)\n",
    "    Output2 = State([1-in2, in2], 2)\n",
    "    CZ = TwoQubitGate(CZmat, 1, 2, 2, 2)\n",
    "    H1 = OneQubitGate(Hmat, 1, 3)\n",
    "    H2 = OneQubitGate(Hmat, 2, 3)\n",
    "\n",
    "    n_qregs = 2\n",
    "    Inputs = [Input1, Input2]\n",
    "    Outputs = [Output1, Output2]\n",
    "    gates = [CZ, H1, H2]\n",
    "    line = [\n",
    "                [gates[1], gates[2]],\n",
    "                [gates[1], gates[3]],\n",
    "                ]\n",
    "\n",
    "    for idx in 1:length(line)\n",
    "        Inputs[idx].item, line[idx][1].item = merge(Inputs[idx], line[idx][1])\n",
    "        line[idx][length(line[idx])].item, Outputs[idx].item = merge(line[idx][length(line[idx])], Outputs[idx])\n",
    "        curr = line[idx][1]\n",
    "        for timestep in 2:length(line[idx])\n",
    "            curr.item, line[idx][timestep].item = merge(curr, line[idx][timestep])\n",
    "            if typeof(curr) == OneQubitGate || typeof(curr) == State\n",
    "                curr = line[idx][timestep]\n",
    "            end\n",
    "        end\n",
    "    end\n",
    "\n",
    "    println(sum(gates[1]))\n",
    "end"
   ]
  },
  {
   "cell_type": "markdown",
   "metadata": {},
   "source": [
    "### 例3"
   ]
  },
  {
   "cell_type": "code",
   "execution_count": 284,
   "metadata": {},
   "outputs": [
    {
     "name": "stdout",
     "output_type": "stream",
     "text": [
      "0.4999999999999999 + 0.0im\n",
      "0.4999999999999999 + 0.0im\n",
      "0.4999999999999999 + 0.0im\n",
      "-0.4999999999999999 + 0.0im\n"
     ]
    }
   ],
   "source": [
    "for i in 1:2^2\n",
    "    bin_string = bitstring(UInt8(i-1))\n",
    "    \n",
    "    in1 = Int(bin_string[7]) - 48\n",
    "    in2 = Int(bin_string[8]) - 48\n",
    "    Input1 = State([1, 0], 1)\n",
    "    Input2 = State([1, 0], 2)\n",
    "    Output1 = State([1-in1, in1], 1)\n",
    "    Output2 = State([1-in2, in2], 2)\n",
    "    CZ = TwoQubitGate(CZmat, 1, 2, 2, 2)\n",
    "    H1 = OneQubitGate(Hmat, 1, 1)\n",
    "    H2 = OneQubitGate(Hmat, 2, 1)\n",
    "\n",
    "    n_qregs = 2\n",
    "    Inputs = [Input1, Input2]\n",
    "    Outputs = [Output1, Output2]\n",
    "    gates = [H1, H2, CZ]\n",
    "    line = [\n",
    "                [gates[1], gates[3]],\n",
    "                [gates[2], gates[3]],\n",
    "                ]\n",
    "\n",
    "    for idx in 1:length(line)\n",
    "        Inputs[idx].item, line[idx][1].item = merge(Inputs[idx], line[idx][1])\n",
    "        line[idx][length(line[idx])].item, Outputs[idx].item = merge(line[idx][length(line[idx])], Outputs[idx])\n",
    "        curr = line[idx][1]\n",
    "        for timestep in 2:length(line[idx])\n",
    "            curr.item, line[idx][timestep].item = merge(curr, line[idx][timestep])\n",
    "            if typeof(curr) == OneQubitGate || typeof(curr) == State\n",
    "                curr = line[idx][timestep]\n",
    "            end\n",
    "        end\n",
    "    end\n",
    "    println(sum(gates[3]))\n",
    "end"
   ]
  },
  {
   "cell_type": "markdown",
   "metadata": {},
   "source": [
    "### 例4"
   ]
  },
  {
   "cell_type": "code",
   "execution_count": 288,
   "metadata": {},
   "outputs": [
    {
     "name": "stdout",
     "output_type": "stream",
     "text": [
      "TwoQubitGate(Complex[0.49999999999999983 + 0.0im 0.49999999999999983 + 0.0im; 0.49999999999999983 + 0.0im -0.49999999999999983 + 0.0im], 1, 2, 2, 2)TwoQubitGate(Complex[0.9999999999999998 + 0.0im 0.0 + 0.0im; 0.0 + 0.0im 0.0 + 0.0im], 1, 2, 2, 2)\n",
      "ITensor ord=0\n",
      "NDTensors.Dense{Complex{Float64},Array{Complex{Float64},1}}\n",
      " 0-dimensional\n",
      "0.4999999999999997 + 0.0im\n",
      "TwoQubitGate(Complex[0.49999999999999983 + 0.0im 0.49999999999999983 + 0.0im; 0.49999999999999983 + 0.0im -0.49999999999999983 + 0.0im], 1, 2, 2, 2)TwoQubitGate(Complex[0.0 + 0.0im 0.9999999999999998 + 0.0im; 0.0 + 0.0im 0.0 + 0.0im], 1, 2, 2, 2)\n",
      "ITensor ord=0\n",
      "NDTensors.Dense{Complex{Float64},Array{Complex{Float64},1}}\n",
      " 0-dimensional\n",
      "0.4999999999999997 + 0.0im\n",
      "TwoQubitGate(Complex[0.49999999999999983 + 0.0im 0.49999999999999983 + 0.0im; 0.49999999999999983 + 0.0im -0.49999999999999983 + 0.0im], 1, 2, 2, 2)TwoQubitGate(Complex[0.0 + 0.0im 0.0 + 0.0im; 0.9999999999999998 + 0.0im -0.0 + 0.0im], 1, 2, 2, 2)\n",
      "ITensor ord=0\n",
      "NDTensors.Dense{Complex{Float64},Array{Complex{Float64},1}}\n",
      " 0-dimensional\n",
      "0.4999999999999997 + 0.0im\n",
      "TwoQubitGate(Complex[0.49999999999999983 + 0.0im 0.49999999999999983 + 0.0im; 0.49999999999999983 + 0.0im -0.49999999999999983 + 0.0im], 1, 2, 2, 2)TwoQubitGate(Complex[0.0 + 0.0im 0.0 + 0.0im; 0.0 + 0.0im -0.9999999999999998 + 0.0im], 1, 2, 2, 2)\n",
      "ITensor ord=0\n",
      "NDTensors.Dense{Complex{Float64},Array{Complex{Float64},1}}\n",
      " 0-dimensional\n",
      "0.4999999999999997 + 0.0im\n"
     ]
    }
   ],
   "source": [
    "for i in 1:2^2\n",
    "    bin_string = bitstring(UInt8(i-1))\n",
    "    \n",
    "    out1 = Int(bin_string[7]) - 48\n",
    "    out2 = Int(bin_string[8]) - 48\n",
    "    Input1 = State([1, 0], 1)\n",
    "    Input2 = State([1, 0], 2)\n",
    "    Output1 = State([1-out1, out1], 1)\n",
    "    Output2 = State([1-out2, out2], 2)\n",
    "    H1 = OneQubitGate(Hmat, 1, 1)\n",
    "    H2 = OneQubitGate(Hmat, 2, 1)\n",
    "    CZ1 = TwoQubitGate(CZmat, 1, 2, 2, 2)\n",
    "    H3 = OneQubitGate(Hmat, 1, 1)\n",
    "    H4 = OneQubitGate(Hmat, 2, 1)\n",
    "    CZ2 = TwoQubitGate(CZmat, 1, 2, 2, 2)\n",
    "    H5 = OneQubitGate(Hmat, 1, 1)\n",
    "    H6 = OneQubitGate(Hmat, 2, 1)\n",
    "\n",
    "    n_qregs = 2\n",
    "    Inputs = [Input1, Input2]\n",
    "    Outputs = [Output1, Output2]\n",
    "    gates = [H1, H2, CZ1, H3, H4, CZ2, H5, H6]\n",
    "    line = [\n",
    "                [gates[1], gates[3], gates[4], gates[6], gates[7]],\n",
    "                [gates[2], gates[3], gates[5], gates[6], gates[8]],\n",
    "                ]\n",
    "\n",
    "    for idx in 1:length(line)\n",
    "        Inputs[idx].item, line[idx][1].item = merge(Inputs[idx], line[idx][1])\n",
    "        #line[idx][length(line[idx])].item, Outputs[idx].item = merge(line[idx][length(line[idx])], Outputs[idx])\n",
    "        curr = line[idx][1]\n",
    "        # 1 qubitずつ処理\n",
    "        for timestep in 2:length(line[idx])\n",
    "            if typeof(curr) == TwoQubitGate && typeof(line[idx][timestep]) == TwoQubitGate\n",
    "                curr = line[idx][timestep]\n",
    "            else\n",
    "                curr.item, line[idx][timestep].item = merge(curr, line[idx][timestep])\n",
    "                if typeof(curr) == OneQubitGate || typeof(curr) == State\n",
    "                    curr = line[idx][timestep]\n",
    "                end\n",
    "            end\n",
    "            #println(curr)\n",
    "        end\n",
    "        curr.item, Outputs[idx].item = merge(curr, Outputs[idx])\n",
    "    end\n",
    "    println(gates[3], gates[6])\n",
    "    \n",
    "    a = Index(2,\"a\")\n",
    "    b = Index(2,\"b\")\n",
    "\n",
    "    A = ITensor(ComplexF64 , a,b)\n",
    "    B = ITensor(ComplexF64 , a,b)\n",
    "\n",
    "    A[a(1), b(1)] = gates[3].item[1, 1]\n",
    "    A[a(1), b(2)] = gates[3].item[1, 2]\n",
    "    A[a(2), b(1)] = gates[3].item[2, 1]\n",
    "    A[a(2), b(2)] = gates[3].item[2, 2]\n",
    "    B[a(1), b(1)] = gates[6].item[1, 1]\n",
    "    B[a(1), b(2)] = gates[6].item[1, 2]\n",
    "    B[a(2), b(1)] = gates[6].item[2, 1]\n",
    "    B[a(2), b(2)] = gates[6].item[2, 2]\n",
    "    C = A*B\n",
    "    println(C)\n",
    "end"
   ]
  },
  {
   "cell_type": "code",
   "execution_count": 200,
   "metadata": {},
   "outputs": [
    {
     "data": {
      "text/plain": [
       "ITensor ord=0\n",
       "NDTensors.Dense{Complex{Float64},Array{Complex{Float64},1}}"
      ]
     },
     "execution_count": 200,
     "metadata": {},
     "output_type": "execute_result"
    }
   ],
   "source": [
    "a = Index(2,\"a\")\n",
    "b = Index(2,\"b\")\n",
    "\n",
    "A = ITensor(ComplexF64 , a,b)\n",
    "B = ITensor(ComplexF64 , a,b)\n",
    "\n",
    "A[a(1), b(1)] = gates[3].item[1, 1]\n",
    "A[a(1), b(2)] = gates[3].item[1, 2]\n",
    "A[a(2), b(1)] = gates[3].item[2, 1]\n",
    "A[a(2), b(2)] = gates[3].item[2, 2]\n",
    "B[a(1), b(1)] = gates[6].item[1, 1]\n",
    "B[a(1), b(2)] = gates[6].item[1, 2]\n",
    "B[a(2), b(1)] = gates[6].item[2, 1]\n",
    "B[a(2), b(2)] = gates[6].item[2, 2]\n",
    "\n",
    "C = A*B"
   ]
  },
  {
   "cell_type": "code",
   "execution_count": 212,
   "metadata": {},
   "outputs": [
    {
     "name": "stdout",
     "output_type": "stream",
     "text": [
      "ITensor ord=0\n",
      "NDTensors.Dense{Complex{Float64},Array{Complex{Float64},1}}\n",
      " 0-dimensional\n",
      "0.4999999999999997 + 0.0im\n"
     ]
    }
   ],
   "source": [
    "println(C)"
   ]
  },
  {
   "cell_type": "code",
   "execution_count": 198,
   "metadata": {},
   "outputs": [
    {
     "data": {
      "text/plain": [
       "ITensor ord=2 (dim=2|id=67|\"b\") (dim=2|id=485|\"c\")\n",
       "NDTensors.Dense{Complex{Float64},Array{Complex{Float64},1}}"
      ]
     },
     "execution_count": 198,
     "metadata": {},
     "output_type": "execute_result"
    }
   ],
   "source": [
    "a = Index(2,\"a\")\n",
    "b = Index(2,\"b\")\n",
    "c = Index(2,\"c\")\n",
    "\n",
    "# Define 3 order 2 tensors (matrices)\n",
    "Z = ITensor(ComplexF64 , a,b)\n",
    "X = ITensor(ComplexF64 , b,c)\n",
    "Y = ITensor(ComplexF64 , b,c)\n",
    "\n",
    "# Set some elements\n",
    "Z[a(1), b(1)] = 1.0 + 0im\n",
    "Z[a(2), b(2)] = -1.0 + 0im\n",
    "\n",
    "X[b(1), c(2)] = 1.0 + 1im\n",
    "X[b(2), c(1)] = 1.0\n",
    "\n",
    "Y[b(1), c(1)] = 1.0\n",
    "Y[b(2), c(2)] = 1.0\n",
    "\n",
    "# Operations with tensors\n",
    "R = Z * X\n",
    "\n",
    "S = Y + X\n",
    "\n",
    "T = Y - X"
   ]
  },
  {
   "cell_type": "code",
   "execution_count": 199,
   "metadata": {},
   "outputs": [
    {
     "name": "stdout",
     "output_type": "stream",
     "text": [
      "Z =\n",
      "ITensor ord=2\n",
      "Dim 1: (dim=2|id=105|\"a\")\n",
      "Dim 2: (dim=2|id=67|\"b\")\n",
      "NDTensors.Dense{Complex{Float64},Array{Complex{Float64},1}}\n",
      " 2×2\n",
      " 1.0 + 0.0im   0.0 + 0.0im\n",
      " 0.0 + 0.0im  -1.0 + 0.0im\n",
      "\n",
      "X =\n",
      "ITensor ord=2\n",
      "Dim 1: (dim=2|id=67|\"b\")\n",
      "Dim 2: (dim=2|id=485|\"c\")\n",
      "NDTensors.Dense{Complex{Float64},Array{Complex{Float64},1}}\n",
      " 2×2\n",
      " 0.0 + 0.0im  1.0 + 1.0im\n",
      " 1.0 + 0.0im  0.0 + 0.0im\n",
      "\n",
      "Y =\n",
      "ITensor ord=2\n",
      "Dim 1: (dim=2|id=67|\"b\")\n",
      "Dim 2: (dim=2|id=485|\"c\")\n",
      "NDTensors.Dense{Complex{Float64},Array{Complex{Float64},1}}\n",
      " 2×2\n",
      " 1.0 + 0.0im  0.0 + 0.0im\n",
      " 0.0 + 0.0im  1.0 + 0.0im\n",
      "\n",
      "R = Z * X =\n",
      "ITensor ord=2\n",
      "Dim 1: (dim=2|id=105|\"a\")\n",
      "Dim 2: (dim=2|id=485|\"c\")\n",
      "NDTensors.Dense{Complex{Float64},Array{Complex{Float64},1}}\n",
      " 2×2\n",
      "  0.0 + 0.0im  1.0 + 1.0im\n",
      " -1.0 + 0.0im  0.0 + 0.0im\n",
      "\n",
      "S = Y + X =\n",
      "ITensor ord=2\n",
      "Dim 1: (dim=2|id=67|\"b\")\n",
      "Dim 2: (dim=2|id=485|\"c\")\n",
      "NDTensors.Dense{Complex{Float64},Array{Complex{Float64},1}}\n",
      " 2×2\n",
      " 1.0 + 0.0im  1.0 + 1.0im\n",
      " 1.0 + 0.0im  1.0 + 0.0im\n",
      "\n",
      "S = Y - X =\n",
      "ITensor ord=2\n",
      "Dim 1: (dim=2|id=67|\"b\")\n",
      "Dim 2: (dim=2|id=485|\"c\")\n",
      "NDTensors.Dense{Complex{Float64},Array{Complex{Float64},1}}\n",
      " 2×2\n",
      "  1.0 + 0.0im  -1.0 - 1.0im\n",
      " -1.0 + 0.0im   1.0 + 0.0im\n",
      "\n"
     ]
    }
   ],
   "source": [
    "println(\"Z =\\n\", Z, \"\\n\")\n",
    "println(\"X =\\n\", X, \"\\n\")\n",
    "println(\"Y =\\n\", Y, \"\\n\")\n",
    "println(\"R = Z * X =\\n\", R, \"\\n\")\n",
    "println(\"S = Y + X =\\n\", S, \"\\n\")\n",
    "println(\"S = Y - X =\\n\", T, \"\\n\")"
   ]
  },
  {
   "cell_type": "code",
   "execution_count": 282,
   "metadata": {},
   "outputs": [
    {
     "name": "stdout",
     "output_type": "stream",
     "text": [
      "OneQubitGate(Complex[0.7071067811865475 + 0.0im 0.7071067811865475 + 0.0im; 0.7071067811865475 + 0.0im -0.7071067811865475 + 0.0im], 1, 1)\n",
      "OneQubitGate(Complex[0 + 0im 0 + 0im; 0 + 0im 0 + 0im], 1, 1)\n"
     ]
    }
   ],
   "source": [
    "Input1 = State([1, 0], 1)\n",
    "Input2 = State([1, 0], 2)\n",
    "Output1 = State([1, 0], 1)\n",
    "Output2 = State([1, 0], 2)\n",
    "H1 = OneQubitGate(Hmat, 1, 1)\n",
    "H2= OneQubitGate(Hmat, 2, 1)\n",
    "CZ = TwoQubitGate(CZmat, 1, 2, 2, 2)\n",
    "H3 = OneQubitGate(Hmat, 1, 3)\n",
    "H4 = OneQubitGate(Hmat, 2, 3)\n",
    "\n",
    "gates = [H1, H2]\n",
    "lines = [[H1], [H2]]\n",
    "curr = lines[1][1]\n",
    "println(gates[1])\n",
    "curr.item = [0 0; 0 0]\n",
    "println(gates[1])"
   ]
  },
  {
   "cell_type": "code",
   "execution_count": null,
   "metadata": {},
   "outputs": [],
   "source": []
  }
 ],
 "metadata": {
  "@webio": {
   "lastCommId": null,
   "lastKernelId": null
  },
  "kernelspec": {
   "display_name": "Julia 1.4.0",
   "language": "julia",
   "name": "julia-1.4"
  },
  "language_info": {
   "file_extension": ".jl",
   "mimetype": "application/julia",
   "name": "julia",
   "version": "1.4.0"
  }
 },
 "nbformat": 4,
 "nbformat_minor": 4
}
